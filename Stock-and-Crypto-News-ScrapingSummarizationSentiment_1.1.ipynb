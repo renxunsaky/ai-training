{
  "cells": [
    {
      "cell_type": "markdown",
      "id": "59e9ecc6",
      "metadata": {
        "id": "59e9ecc6"
      },
      "source": [
        "## 1. Install and Import Baseline Dependencies"
      ]
    },
    {
      "cell_type": "code",
      "execution_count": 7,
      "id": "35fb751d",
      "metadata": {
        "id": "35fb751d"
      },
      "outputs": [],
      "source": [
        "from transformers import PegasusTokenizer, PegasusForConditionalGeneration\n",
        "from bs4 import BeautifulSoup\n",
        "import requests\n",
        "import re\n",
        "from transformers import pipeline\n",
        "import csv"
      ]
    },
    {
      "cell_type": "markdown",
      "id": "fbf2e57e",
      "metadata": {
        "id": "fbf2e57e"
      },
      "source": [
        "## 2. Setup Model"
      ]
    },
    {
      "cell_type": "code",
      "execution_count": 2,
      "id": "9184ef60",
      "metadata": {
        "id": "9184ef60",
        "outputId": "c78cc7da-9ec1-4876-d750-6a08ae6bff8f",
        "colab": {
          "base_uri": "https://localhost:8080/",
          "height": 313,
          "referenced_widgets": [
            "0d99c3c593634e908623979f5e9306d8",
            "30445b57972048edb5db9e0202d4c03b",
            "a77fb364873f4333a808f5e603166bbf",
            "9b88c0b4e32846dbbbe67e7c9995e3ee",
            "e7a303722bc3495eace8900e136a43aa",
            "d5bb9fef63824a4da523152cf95c433f",
            "c527d553514a435d8730cc374d905757",
            "a4bee416348c4e208d4a578451e12b4d",
            "71c1437d408b4dc99e898ffb4c9be32c",
            "f5d3169a854344229d06d7f5e6bc2a3f",
            "6e5c8d7a03c74dc69d79c3d1b892f4f4",
            "d6e5a6293021483eba67890a2dcb2fd3",
            "7be5ddc200d54ad6a6645e1b550a9cc9",
            "5bd54cea9f9f4365a0723dc20b1d20a9",
            "c4743dfb75844b9e84aad90d0fe3b0d6",
            "362f27c6f7614c368f47c4b55dc41abc",
            "6f4647b18dec423db0ce5def88676295",
            "77861c66df7e46a68657b5713d35e1c4",
            "60116627b7274207a550d9f28e810e43",
            "62fdfc5e1078440aad793985d3bef1be",
            "d24beb8983b54421a1634f309fca9378",
            "831f6e0f4339483cb28f2602205bc33a",
            "98535853064a40878fdad244b9d3175f",
            "c7386ea8d7e44e26a1764bb6bee3a810",
            "a9ec1bd4058442bc847bdfba675ba00c",
            "39704d026b9047acbfa0ec068844a148",
            "f4addde148c545c6a4373fb743885a79",
            "83ce8467a95d4221a150a8f13e8197dc",
            "0b7dbd3c150f4e9c8deccfeb74185a79",
            "f5cc9d3b705148fcb5b46dd4dc0df999",
            "ae226c1b86f34cf493a377ed3fc905a8",
            "6df7b92a8a494b94a465cceb797a78b9",
            "cbc82235da834b84b3cdb5f89982d1b6",
            "de4b4473a98b4d1aa6997762958fdfbe",
            "45246c93082e436c90e5a23a005edad1",
            "5ad7671ff39846a6972f8c85841227b8",
            "1523dabcb9c94d6f9bba63ba414ecd9d",
            "76f8c1cf208743beacb1c7efaac008c6",
            "df6172c694ab44c79ccc4994fe8a6751",
            "1aa0797854e44b9c9a1cc02ae4a847da",
            "15eb9c4ad65a47ddaf88bcd5ffe1257b",
            "321aa2a64e6047d288a43e4707f198de",
            "8679eb4147bd40bb898c189e0c5c74f5",
            "6cefbc3973ee4f2282aa60ecf8838360",
            "4067083aa48a4966b86da143492beabf",
            "0dccdf1e77bb4652b86c6ae809a9fc33",
            "b5eebe16d3ac4a039d8c348e954d71e3",
            "3b5875935b874a7cbe5aafe3aa5aec5c",
            "ce97754612154e048d502e5f09c659a5",
            "f0ae778c096346449156e3011a32ffb4",
            "3540595a27b9485892f1759420ed4297",
            "a22e0e720a11479a8739eb39c4fbd8c0",
            "6c96ac9fec534a97b3374ee692ef5872",
            "93d66448a3384628a6583aee93ca77fc",
            "f77203277e10470fa79e95b89c4f2654"
          ]
        }
      },
      "outputs": [
        {
          "output_type": "stream",
          "name": "stderr",
          "text": [
            "/usr/local/lib/python3.11/dist-packages/huggingface_hub/utils/_auth.py:94: UserWarning: \n",
            "The secret `HF_TOKEN` does not exist in your Colab secrets.\n",
            "To authenticate with the Hugging Face Hub, create a token in your settings tab (https://huggingface.co/settings/tokens), set it as secret in your Google Colab and restart your session.\n",
            "You will be able to reuse this secret in all of your notebooks.\n",
            "Please note that authentication is recommended but still optional to access public models or datasets.\n",
            "  warnings.warn(\n"
          ]
        },
        {
          "output_type": "display_data",
          "data": {
            "text/plain": [
              "tokenizer_config.json:   0%|          | 0.00/1.44k [00:00<?, ?B/s]"
            ],
            "application/vnd.jupyter.widget-view+json": {
              "version_major": 2,
              "version_minor": 0,
              "model_id": "0d99c3c593634e908623979f5e9306d8"
            }
          },
          "metadata": {}
        },
        {
          "output_type": "display_data",
          "data": {
            "text/plain": [
              "spiece.model:   0%|          | 0.00/1.91M [00:00<?, ?B/s]"
            ],
            "application/vnd.jupyter.widget-view+json": {
              "version_major": 2,
              "version_minor": 0,
              "model_id": "d6e5a6293021483eba67890a2dcb2fd3"
            }
          },
          "metadata": {}
        },
        {
          "output_type": "display_data",
          "data": {
            "text/plain": [
              "special_tokens_map.json:   0%|          | 0.00/1.34k [00:00<?, ?B/s]"
            ],
            "application/vnd.jupyter.widget-view+json": {
              "version_major": 2,
              "version_minor": 0,
              "model_id": "98535853064a40878fdad244b9d3175f"
            }
          },
          "metadata": {}
        },
        {
          "output_type": "display_data",
          "data": {
            "text/plain": [
              "config.json:   0%|          | 0.00/1.27k [00:00<?, ?B/s]"
            ],
            "application/vnd.jupyter.widget-view+json": {
              "version_major": 2,
              "version_minor": 0,
              "model_id": "de4b4473a98b4d1aa6997762958fdfbe"
            }
          },
          "metadata": {}
        },
        {
          "output_type": "display_data",
          "data": {
            "text/plain": [
              "model.safetensors:   0%|          | 0.00/2.28G [00:00<?, ?B/s]"
            ],
            "application/vnd.jupyter.widget-view+json": {
              "version_major": 2,
              "version_minor": 0,
              "model_id": "4067083aa48a4966b86da143492beabf"
            }
          },
          "metadata": {}
        },
        {
          "output_type": "stream",
          "name": "stderr",
          "text": [
            "Some weights of PegasusForConditionalGeneration were not initialized from the model checkpoint at human-centered-summarization/financial-summarization-pegasus and are newly initialized: ['model.decoder.embed_positions.weight', 'model.encoder.embed_positions.weight']\n",
            "You should probably TRAIN this model on a down-stream task to be able to use it for predictions and inference.\n"
          ]
        }
      ],
      "source": [
        "model_name = \"human-centered-summarization/financial-summarization-pegasus\"\n",
        "tokenizer = PegasusTokenizer.from_pretrained(model_name)\n",
        "model = PegasusForConditionalGeneration.from_pretrained(model_name)"
      ]
    },
    {
      "cell_type": "markdown",
      "id": "17c5219d",
      "metadata": {
        "id": "17c5219d"
      },
      "source": [
        " ## 3. Setup Pipeline"
      ]
    },
    {
      "cell_type": "code",
      "execution_count": null,
      "id": "e7da38f7",
      "metadata": {
        "id": "e7da38f7"
      },
      "outputs": [],
      "source": [
        "# monitored_tickers = ['ETH']"
      ]
    },
    {
      "cell_type": "code",
      "execution_count": 4,
      "id": "404cb2f3",
      "metadata": {
        "id": "404cb2f3"
      },
      "outputs": [],
      "source": [
        "# Take input from the user for the monitored tickers\n",
        "monitored_tickers = [\"AUDUSD\"]"
      ]
    },
    {
      "cell_type": "markdown",
      "id": "94d3bde3",
      "metadata": {
        "id": "94d3bde3"
      },
      "source": [
        "## 4.1. Search for Stock News using Google and Yahoo Finance"
      ]
    },
    {
      "cell_type": "code",
      "execution_count": 5,
      "id": "58802155",
      "metadata": {
        "id": "58802155",
        "outputId": "fd8e150d-c0ef-4d26-916c-098effae8bec",
        "colab": {
          "base_uri": "https://localhost:8080/"
        }
      },
      "outputs": [
        {
          "output_type": "stream",
          "name": "stdout",
          "text": [
            "Searching For Stock News For ['AUDUSD']\n"
          ]
        }
      ],
      "source": [
        "print('Searching For Stock News For', monitored_tickers)\n",
        "def search_for_stock_news_links(ticker):\n",
        "    search_url = 'https://www.google.com/search?q=yahoo+finance+{}&tbm=nws'.format(ticker)\n",
        "    r = requests.get(search_url)\n",
        "    soup = BeautifulSoup(r.text, 'html.parser')\n",
        "    atags = soup.find_all('a')\n",
        "    hrefs = [link['href'] for link in atags]\n",
        "    print(hrefs)\n",
        "    return hrefs"
      ]
    },
    {
      "cell_type": "code",
      "execution_count": 8,
      "id": "891a211c",
      "metadata": {
        "id": "891a211c",
        "outputId": "fa2eba9f-f78e-4468-ba1a-39d58eb7f59d",
        "colab": {
          "base_uri": "https://localhost:8080/"
        }
      },
      "outputs": [
        {
          "output_type": "stream",
          "name": "stdout",
          "text": [
            "['/?sa=X&ved=0ahUKEwiEut6G3LeLAxVhH0QIHd_vGMcQOwgC', '/search?q=yahoo+finance+AUDUSD&sca_esv=fb7aeb5dce633c51&ie=UTF-8&tbm=nws&gbv=1&sei=0zapZ8SEKuG-kPIP39_juAw', '/search?q=yahoo+finance+AUDUSD&sca_esv=fb7aeb5dce633c51&ie=UTF-8&source=lnms&sa=X&ved=0ahUKEwiEut6G3LeLAxVhH0QIHd_vGMcQ_AUIBSgA', '/search?q=yahoo+finance+AUDUSD&sca_esv=fb7aeb5dce633c51&ie=UTF-8&tbm=bks&source=lnms&sa=X&ved=0ahUKEwiEut6G3LeLAxVhH0QIHd_vGMcQ_AUIBygC', '/search?q=yahoo+finance+AUDUSD&sca_esv=fb7aeb5dce633c51&ie=UTF-8&tbm=vid&source=lnms&sa=X&ved=0ahUKEwiEut6G3LeLAxVhH0QIHd_vGMcQ_AUICCgD', '/search?q=yahoo+finance+AUDUSD&sca_esv=fb7aeb5dce633c51&ie=UTF-8&tbm=isch&source=lnms&sa=X&ved=0ahUKEwiEut6G3LeLAxVhH0QIHd_vGMcQ_AUICSgE', '/url?q=https://maps.google.com/maps%3Fq%3Dyahoo%2Bfinance%2BAUDUSD%26um%3D1%26ie%3DUTF-8%26ved%3D1t:200713%26ictx%3D111&opi=89978449&sa=U&ved=0ahUKEwiEut6G3LeLAxVhH0QIHd_vGMcQiaAMCAooBQ&usg=AOvVaw2N5sIt9jy3AhAHekjcxFxv', '/url?q=/search%3Fq%3Dyahoo%2Bfinance%2BAUDUSD%26sca_esv%3Dfb7aeb5dce633c51%26ie%3DUTF-8%26tbm%3Dshop%26source%3Dlnms%26ved%3D1t:200713%26ictx%3D111&opi=89978449&sa=U&ved=0ahUKEwiEut6G3LeLAxVhH0QIHd_vGMcQiaAMCAsoBg&usg=AOvVaw2_WHDd3hBTLB8LsILkcjp0', '/advanced_search', '/search?q=yahoo+finance+AUDUSD&sca_esv=fb7aeb5dce633c51&ie=UTF-8&tbm=nws&source=lnt&tbs=qdr:h&sa=X&ved=0ahUKEwiEut6G3LeLAxVhH0QIHd_vGMcQpwUIDQ', '/search?q=yahoo+finance+AUDUSD&sca_esv=fb7aeb5dce633c51&ie=UTF-8&tbm=nws&source=lnt&tbs=qdr:d&sa=X&ved=0ahUKEwiEut6G3LeLAxVhH0QIHd_vGMcQpwUIDg', '/search?q=yahoo+finance+AUDUSD&sca_esv=fb7aeb5dce633c51&ie=UTF-8&tbm=nws&source=lnt&tbs=qdr:w&sa=X&ved=0ahUKEwiEut6G3LeLAxVhH0QIHd_vGMcQpwUIDw', '/search?q=yahoo+finance+AUDUSD&sca_esv=fb7aeb5dce633c51&ie=UTF-8&tbm=nws&source=lnt&tbs=qdr:m&sa=X&ved=0ahUKEwiEut6G3LeLAxVhH0QIHd_vGMcQpwUIEA', '/search?q=yahoo+finance+AUDUSD&sca_esv=fb7aeb5dce633c51&ie=UTF-8&tbm=nws&source=lnt&tbs=qdr:y&sa=X&ved=0ahUKEwiEut6G3LeLAxVhH0QIHd_vGMcQpwUIEQ', '/search?q=yahoo+finance+AUDUSD&sca_esv=fb7aeb5dce633c51&ie=UTF-8&tbm=nws&source=lnt&tbs=ar:1&sa=X&ved=0ahUKEwiEut6G3LeLAxVhH0QIHd_vGMcQpwUIEg', '/search?q=yahoo+finance+AUDUSD&sca_esv=fb7aeb5dce633c51&ie=UTF-8&tbm=nws&source=lnt&tbs=sbd:1&sa=X&ved=0ahUKEwiEut6G3LeLAxVhH0QIHd_vGMcQpwUIFA', '/url?q=https://finance.yahoo.com/news/aud-usd-weekly-price-forecast-141124717.html&sa=U&ved=2ahUKEwiEut6G3LeLAxVhH0QIHd_vGMcQxfQBegQICBAC&usg=AOvVaw3Yjxe8N92hR44et_2VVfe8', '/url?q=https://finance.yahoo.com/news/aud-usd-forecast-aussie-dollar-121022904.html&sa=U&ved=2ahUKEwiEut6G3LeLAxVhH0QIHd_vGMcQxfQBegQICRAC&usg=AOvVaw0wjUcmvLqAoCM0ZMJyGECW', '/url?q=https://finance.yahoo.com/news/aud-usd-declines-ahead-rba-163800442.html&sa=U&ved=2ahUKEwiEut6G3LeLAxVhH0QIHd_vGMcQxfQBegQIAhAC&usg=AOvVaw2LIocO3lhxdwthEdgFwBmx', '/url?q=https://finance.yahoo.com/news/aud-usd-weekly-price-forecast-132935240.html&sa=U&ved=2ahUKEwiEut6G3LeLAxVhH0QIHd_vGMcQxfQBegQIBRAC&usg=AOvVaw0TTLvT6u9feSEXOgkTEKSP', '/url?q=https://finance.yahoo.com/news/aud-usd-forecast-aussie-dollar-132834054.html&sa=U&ved=2ahUKEwiEut6G3LeLAxVhH0QIHd_vGMcQxfQBegQIBBAC&usg=AOvVaw3KkQaAk0GX-8zak1eRH6Nl', '/url?q=https://finance.yahoo.com/news/aud-usd-weekly-price-forecast-130811765.html&sa=U&ved=2ahUKEwiEut6G3LeLAxVhH0QIHd_vGMcQxfQBegQIAxAC&usg=AOvVaw2VYRZ_G5eR_5aTNzuYRRkY', '/url?q=https://finance.yahoo.com/news/aud-usd-forecast-australian-dollar-130812973.html&sa=U&ved=2ahUKEwiEut6G3LeLAxVhH0QIHd_vGMcQxfQBegQIBxAC&usg=AOvVaw2fmCTCO0mF7s7mPqp6_0uI', '/url?q=https://finance.yahoo.com/news/aud-usd-forecast-aussie-continues-161221802.html&sa=U&ved=2ahUKEwiEut6G3LeLAxVhH0QIHd_vGMcQxfQBegQIBhAC&usg=AOvVaw0HEHJ5nGFCZXq9-ZOVY9oc', '/url?q=https://finance.yahoo.com/news/aud-usd-forecast-aussie-dollar-122342692.html&sa=U&ved=2ahUKEwiEut6G3LeLAxVhH0QIHd_vGMcQxfQBegQIARAC&usg=AOvVaw2btfG5uH6MwsSRssMBeKzz', '/url?q=https://finance.yahoo.com/news/aud-usd-forecast-australian-dollar-132830205.html&sa=U&ved=2ahUKEwiEut6G3LeLAxVhH0QIHd_vGMcQxfQBegQIABAC&usg=AOvVaw0gekSrmU6EMc5lf5vYZrdm', '/search?q=yahoo+finance+AUDUSD&sca_esv=fb7aeb5dce633c51&ie=UTF-8&tbm=nws&ei=0zapZ8SEKuG-kPIP39_juAw&start=10&sa=N', '/url?q=https://support.google.com/websearch%3Fp%3Dws_settings_location%26hl%3Den&opi=89978449&sa=U&ved=0ahUKEwiEut6G3LeLAxVhH0QIHd_vGMcQty4IUw&usg=AOvVaw0FdQ-ReqHZhD2Qy6EnOL50', '/url?q=https://accounts.google.com/ServiceLogin%3Fcontinue%3Dhttps://www.google.com/search%253Fq%253Dyahoo%252Bfinance%252BAUDUSD%2526tbm%253Dnws%26hl%3Den&opi=89978449&sa=U&ved=0ahUKEwiEut6G3LeLAxVhH0QIHd_vGMcQxs8CCFQ&usg=AOvVaw20oVKgrrbvNvdYh6N-xlIf', 'https://www.google.com/preferences?hl=en&fg=1&sa=X&ved=0ahUKEwiEut6G3LeLAxVhH0QIHd_vGMcQ5fUCCFU', 'https://policies.google.com/privacy?hl=en&fg=1', 'https://policies.google.com/terms?hl=en&fg=1', '/setprefs?hl=en&prev=https://www.google.com/search?q%3Dyahoo%2Bfinance%2BAUDUSD%26tbm%3Dnws%26pccc%3D1&sig=0_nrPI5NwR0ZULSnJjgkTfzr8hMrQ%3D&cs=2&sa=X&ved=0ahUKEwiEut6G3LeLAxVhH0QIHd_vGMcQjcAJCFY']\n"
          ]
        }
      ],
      "source": [
        "raw_urls = {ticker:search_for_stock_news_links(ticker) for ticker in monitored_tickers}"
      ]
    },
    {
      "cell_type": "markdown",
      "id": "ffc82ae7",
      "metadata": {
        "id": "ffc82ae7"
      },
      "source": [
        "## 4.2. Strip - Out Unwanted URLs"
      ]
    },
    {
      "cell_type": "code",
      "execution_count": 9,
      "id": "11de43aa",
      "metadata": {
        "id": "11de43aa",
        "outputId": "022e575b-05c1-4c2d-ec7a-a460e79c7966",
        "colab": {
          "base_uri": "https://localhost:8080/"
        }
      },
      "outputs": [
        {
          "output_type": "stream",
          "name": "stdout",
          "text": [
            "Cleaning URLs...\n"
          ]
        }
      ],
      "source": [
        "print('Cleaning URLs...')\n",
        "exclude_list = ['maps', 'policies', 'preferences', 'accounts', 'support']\n",
        "def strip_unwanted_urls(urls, exclude_list):\n",
        "    val = []\n",
        "    for url in urls:\n",
        "        if 'https://' in url and not any(exc in url for exc in exclude_list):\n",
        "            res = re.findall(r'(https?://\\S+)', url)[0].split('&')[0]\n",
        "            val.append(res)\n",
        "    return list(set(val))\n",
        "\n",
        "cleaned_urls = {ticker:strip_unwanted_urls(raw_urls[ticker] , exclude_list) for ticker in monitored_tickers}"
      ]
    },
    {
      "cell_type": "code",
      "source": [
        "for url in cleaned_urls.values():\n",
        "  print(url)"
      ],
      "metadata": {
        "id": "stP_qNsR9WNB",
        "outputId": "aca1eb56-2d86-44cf-f29e-d753395a8894",
        "colab": {
          "base_uri": "https://localhost:8080/"
        }
      },
      "id": "stP_qNsR9WNB",
      "execution_count": 10,
      "outputs": [
        {
          "output_type": "stream",
          "name": "stdout",
          "text": [
            "['https://finance.yahoo.com/news/aud-usd-forecast-aussie-dollar-121022904.html', 'https://finance.yahoo.com/news/aud-usd-weekly-price-forecast-141124717.html', 'https://finance.yahoo.com/news/aud-usd-declines-ahead-rba-163800442.html', 'https://finance.yahoo.com/news/aud-usd-weekly-price-forecast-130811765.html', 'https://finance.yahoo.com/news/aud-usd-forecast-australian-dollar-132830205.html', 'https://finance.yahoo.com/news/aud-usd-weekly-price-forecast-132935240.html', 'https://finance.yahoo.com/news/aud-usd-forecast-australian-dollar-130812973.html', 'https://finance.yahoo.com/news/aud-usd-forecast-aussie-dollar-122342692.html', 'https://www.google.com/search?q%3Dyahoo%2Bfinance%2BAUDUSD%26tbm%3Dnws%26pccc%3D1', 'https://finance.yahoo.com/news/aud-usd-forecast-aussie-dollar-132834054.html', 'https://finance.yahoo.com/news/aud-usd-forecast-aussie-continues-161221802.html']\n"
          ]
        }
      ]
    },
    {
      "cell_type": "markdown",
      "id": "053cc65e",
      "metadata": {
        "id": "053cc65e"
      },
      "source": [
        "## 4.3. Search and Scrape Cleaned URLs"
      ]
    },
    {
      "cell_type": "code",
      "execution_count": 10,
      "id": "249cd785",
      "metadata": {
        "id": "249cd785",
        "outputId": "2f8c610e-3c95-480b-cfbb-2c4e2c8016d9",
        "colab": {
          "base_uri": "https://localhost:8080/"
        }
      },
      "outputs": [
        {
          "output_type": "stream",
          "name": "stdout",
          "text": [
            "Scraping News Links...\n"
          ]
        }
      ],
      "source": [
        "print('Scraping News Links...')\n",
        "def scrape_and_process(URLs):\n",
        "    ARTICLES = []\n",
        "    for url in URLs:\n",
        "        r = requests.get(url)\n",
        "        soup = BeautifulSoup(r.text, 'html.parser')\n",
        "        results = soup.find_all('p')\n",
        "        text = [res.text for res in results]\n",
        "        words = ' '.join(text).split(' ')[:350]\n",
        "        ARTICLE = ' '.join(words)\n",
        "        ARTICLES.append(ARTICLE)\n",
        "    return ARTICLES\n",
        "articles = {ticker:scrape_and_process(cleaned_urls[ticker]) for ticker in monitored_tickers}"
      ]
    },
    {
      "cell_type": "code",
      "source": [
        "for article in articles.values():\n",
        "  print(article)"
      ],
      "metadata": {
        "id": "Nsdxm6P1-9Ci",
        "outputId": "723dbf43-076b-4263-b760-42a9e668d615",
        "colab": {
          "base_uri": "https://localhost:8080/"
        }
      },
      "id": "Nsdxm6P1-9Ci",
      "execution_count": 11,
      "outputs": [
        {
          "output_type": "stream",
          "name": "stdout",
          "text": [
            "['Thank you for your patience. Our engineers are working quickly to resolve the issue.', '© 2025 - Privacy - Terms', 'Thank you for your patience. Our engineers are working quickly to resolve the issue.', 'Thank you for your patience. Our engineers are working quickly to resolve the issue.', 'Thank you for your patience. Our engineers are working quickly to resolve the issue.', 'Thank you for your patience. Our engineers are working quickly to resolve the issue.', 'Thank you for your patience. Our engineers are working quickly to resolve the issue.', 'Thank you for your patience. Our engineers are working quickly to resolve the issue.', 'Thank you for your patience. Our engineers are working quickly to resolve the issue.', 'Thank you for your patience. Our engineers are working quickly to resolve the issue.', 'Thank you for your patience. Our engineers are working quickly to resolve the issue.']\n"
          ]
        }
      ]
    },
    {
      "cell_type": "markdown",
      "id": "595cac55",
      "metadata": {
        "id": "595cac55"
      },
      "source": [
        "## 4.4. Summarise all Articles"
      ]
    },
    {
      "cell_type": "code",
      "execution_count": 12,
      "id": "bb132571",
      "metadata": {
        "id": "bb132571",
        "outputId": "52557614-b74f-4e8a-e21e-e8826a6b59b5",
        "colab": {
          "base_uri": "https://localhost:8080/"
        }
      },
      "outputs": [
        {
          "output_type": "stream",
          "name": "stdout",
          "text": [
            "Summarizing Articles...\n"
          ]
        }
      ],
      "source": [
        "print('Summarizing Articles...')\n",
        "def summarize(articles):\n",
        "    summaries = []\n",
        "    for article in articles:\n",
        "        input_ids = tokenizer.encode(article, return_tensors=\"pt\")\n",
        "        output = model.generate(input_ids, max_length=55, num_beams=5, early_stopping=True)\n",
        "        summary = tokenizer.decode(output[0], skip_special_tokens=True)\n",
        "        summaries.append(summary)\n",
        "    return summaries\n",
        "\n",
        "summaries = {ticker:summarize(articles[ticker]) for ticker in monitored_tickers}"
      ]
    },
    {
      "cell_type": "code",
      "source": [
        "for summary in summaries.values():\n",
        "  print(summary)"
      ],
      "metadata": {
        "id": "TIHb8DBS-pHo",
        "outputId": "7645fe29-1084-442d-e4f7-f970bea56e23",
        "colab": {
          "base_uri": "https://localhost:8080/"
        }
      },
      "id": "TIHb8DBS-pHo",
      "execution_count": 13,
      "outputs": [
        {
          "output_type": "stream",
          "name": "stdout",
          "text": [
            "['We are aware of the issue and are working to resolve it.', 'We are aware of the issue and are working to resolve it.', 'We are aware of the issue and are working to resolve it.', 'We are aware of the issue and are working to resolve it.', 'We are aware of the issue and are working to resolve it.', 'We are aware of the issue and are working to resolve it.', 'We are aware of the issue and are working to resolve it.', 'We are aware of the issue and are working to resolve it.', 'Your information may be shared with third parties.', 'We are aware of the issue and are working to resolve it.', 'We are aware of the issue and are working to resolve it.']\n"
          ]
        }
      ]
    },
    {
      "cell_type": "markdown",
      "id": "fb72c737",
      "metadata": {
        "id": "fb72c737"
      },
      "source": [
        "## 5. Adding Sentiment Analysis"
      ]
    },
    {
      "cell_type": "code",
      "execution_count": null,
      "id": "7027d4a6",
      "metadata": {
        "id": "7027d4a6"
      },
      "outputs": [],
      "source": [
        "from transformers import pipeline, AutoModelForSequenceClassification, AutoTokenizer\n",
        "\n",
        "model_name = \"distilbert-base-uncased-finetuned-sst-2-english\"\n",
        "model = AutoModelForSequenceClassification.from_pretrained(model_name)\n",
        "tokenizer = AutoTokenizer.from_pretrained(model_name)\n",
        "sentiment = pipeline('sentiment-analysis', model=model, tokenizer=tokenizer)\n",
        "scores = {ticker:sentiment(summaries[ticker]) for ticker in monitored_tickers}"
      ]
    },
    {
      "cell_type": "markdown",
      "id": "6d1792f7",
      "metadata": {
        "id": "6d1792f7"
      },
      "source": [
        "## 6. Exporting Results"
      ]
    },
    {
      "cell_type": "code",
      "execution_count": null,
      "id": "a70657bb",
      "metadata": {
        "id": "a70657bb",
        "outputId": "8f37afdb-1f84-41fc-a038-a2e7cc2d9105"
      },
      "outputs": [
        {
          "name": "stdout",
          "output_type": "stream",
          "text": [
            "Exporting Results...\n"
          ]
        }
      ],
      "source": [
        "import datetime\n",
        "\n",
        "print('Exporting Results...')\n",
        "\n",
        "def create_output_array(summaries, scores, urls):\n",
        "    output = []\n",
        "    for ticker in monitored_tickers:\n",
        "        for counter in range(len(summaries[ticker])):\n",
        "            output_this = [\n",
        "                            ticker,\n",
        "                            summaries[ticker][counter],\n",
        "                            scores[ticker][counter]['label'],\n",
        "                            scores[ticker][counter]['score'],\n",
        "                            urls[ticker][counter]\n",
        "                          ]\n",
        "            output.append(output_this)\n",
        "    return output\n",
        "\n",
        "final_output = create_output_array(summaries, scores, cleaned_urls)\n",
        "final_output.insert(0, ['Ticker','Summary', 'Sentiment', 'Sentiment Score', 'URL'])\n",
        "\n",
        "# Get the current date and time in the format DD_MM_YYYY_HH_MM_SS\n",
        "current_date_time = datetime.datetime.now().strftime('%d_%m_%Y_%H_%M_%S')\n",
        "\n",
        "# Construct the file name using the current date and time\n",
        "file_name = f'summaries_{current_date_time}.csv'\n",
        "\n",
        "# Open the file for writing\n",
        "with open(file_name, mode='w', newline='') as f:\n",
        "    csv_writer = csv.writer(f, delimiter=',', quotechar='\"', quoting=csv.QUOTE_MINIMAL)\n",
        "    csv_writer.writerows(final_output)"
      ]
    },
    {
      "cell_type": "code",
      "execution_count": null,
      "id": "5d750802",
      "metadata": {
        "id": "5d750802",
        "outputId": "3a0937e4-503c-4651-fa57-425d21de6c9e"
      },
      "outputs": [
        {
          "name": "stdout",
          "output_type": "stream",
          "text": [
            "Done!\n"
          ]
        }
      ],
      "source": [
        "print('Done!')"
      ]
    },
    {
      "cell_type": "code",
      "execution_count": null,
      "id": "4779592c",
      "metadata": {
        "id": "4779592c"
      },
      "outputs": [],
      "source": [
        "## Umang Laad\n",
        "## 20100BTCSDSI07300"
      ]
    },
    {
      "cell_type": "markdown",
      "id": "0366e1bc",
      "metadata": {
        "id": "0366e1bc"
      },
      "source": [
        "## Anaconda3 Prompt Commands"
      ]
    },
    {
      "cell_type": "code",
      "execution_count": null,
      "id": "63b936de",
      "metadata": {
        "id": "63b936de"
      },
      "outputs": [],
      "source": [
        "## cd \"C:\\Users\\laad_\"\n",
        "## python Stock-and-Crypto-News-ScrapingSummarizationSentiment_1.1.py"
      ]
    }
  ],
  "metadata": {
    "kernelspec": {
      "display_name": "Python 3",
      "name": "python3"
    },
    "language_info": {
      "codemirror_mode": {
        "name": "ipython",
        "version": 3
      },
      "file_extension": ".py",
      "mimetype": "text/x-python",
      "name": "python",
      "nbconvert_exporter": "python",
      "pygments_lexer": "ipython3",
      "version": "3.8.8"
    },
    "colab": {
      "provenance": [],
      "gpuType": "T4"
    },
    "accelerator": "GPU",
    "widgets": {
      "application/vnd.jupyter.widget-state+json": {
        "0d99c3c593634e908623979f5e9306d8": {
          "model_module": "@jupyter-widgets/controls",
          "model_name": "HBoxModel",
          "model_module_version": "1.5.0",
          "state": {
            "_dom_classes": [],
            "_model_module": "@jupyter-widgets/controls",
            "_model_module_version": "1.5.0",
            "_model_name": "HBoxModel",
            "_view_count": null,
            "_view_module": "@jupyter-widgets/controls",
            "_view_module_version": "1.5.0",
            "_view_name": "HBoxView",
            "box_style": "",
            "children": [
              "IPY_MODEL_30445b57972048edb5db9e0202d4c03b",
              "IPY_MODEL_a77fb364873f4333a808f5e603166bbf",
              "IPY_MODEL_9b88c0b4e32846dbbbe67e7c9995e3ee"
            ],
            "layout": "IPY_MODEL_e7a303722bc3495eace8900e136a43aa"
          }
        },
        "30445b57972048edb5db9e0202d4c03b": {
          "model_module": "@jupyter-widgets/controls",
          "model_name": "HTMLModel",
          "model_module_version": "1.5.0",
          "state": {
            "_dom_classes": [],
            "_model_module": "@jupyter-widgets/controls",
            "_model_module_version": "1.5.0",
            "_model_name": "HTMLModel",
            "_view_count": null,
            "_view_module": "@jupyter-widgets/controls",
            "_view_module_version": "1.5.0",
            "_view_name": "HTMLView",
            "description": "",
            "description_tooltip": null,
            "layout": "IPY_MODEL_d5bb9fef63824a4da523152cf95c433f",
            "placeholder": "​",
            "style": "IPY_MODEL_c527d553514a435d8730cc374d905757",
            "value": "tokenizer_config.json: 100%"
          }
        },
        "a77fb364873f4333a808f5e603166bbf": {
          "model_module": "@jupyter-widgets/controls",
          "model_name": "FloatProgressModel",
          "model_module_version": "1.5.0",
          "state": {
            "_dom_classes": [],
            "_model_module": "@jupyter-widgets/controls",
            "_model_module_version": "1.5.0",
            "_model_name": "FloatProgressModel",
            "_view_count": null,
            "_view_module": "@jupyter-widgets/controls",
            "_view_module_version": "1.5.0",
            "_view_name": "ProgressView",
            "bar_style": "success",
            "description": "",
            "description_tooltip": null,
            "layout": "IPY_MODEL_a4bee416348c4e208d4a578451e12b4d",
            "max": 1436,
            "min": 0,
            "orientation": "horizontal",
            "style": "IPY_MODEL_71c1437d408b4dc99e898ffb4c9be32c",
            "value": 1436
          }
        },
        "9b88c0b4e32846dbbbe67e7c9995e3ee": {
          "model_module": "@jupyter-widgets/controls",
          "model_name": "HTMLModel",
          "model_module_version": "1.5.0",
          "state": {
            "_dom_classes": [],
            "_model_module": "@jupyter-widgets/controls",
            "_model_module_version": "1.5.0",
            "_model_name": "HTMLModel",
            "_view_count": null,
            "_view_module": "@jupyter-widgets/controls",
            "_view_module_version": "1.5.0",
            "_view_name": "HTMLView",
            "description": "",
            "description_tooltip": null,
            "layout": "IPY_MODEL_f5d3169a854344229d06d7f5e6bc2a3f",
            "placeholder": "​",
            "style": "IPY_MODEL_6e5c8d7a03c74dc69d79c3d1b892f4f4",
            "value": " 1.44k/1.44k [00:00&lt;00:00, 27.4kB/s]"
          }
        },
        "e7a303722bc3495eace8900e136a43aa": {
          "model_module": "@jupyter-widgets/base",
          "model_name": "LayoutModel",
          "model_module_version": "1.2.0",
          "state": {
            "_model_module": "@jupyter-widgets/base",
            "_model_module_version": "1.2.0",
            "_model_name": "LayoutModel",
            "_view_count": null,
            "_view_module": "@jupyter-widgets/base",
            "_view_module_version": "1.2.0",
            "_view_name": "LayoutView",
            "align_content": null,
            "align_items": null,
            "align_self": null,
            "border": null,
            "bottom": null,
            "display": null,
            "flex": null,
            "flex_flow": null,
            "grid_area": null,
            "grid_auto_columns": null,
            "grid_auto_flow": null,
            "grid_auto_rows": null,
            "grid_column": null,
            "grid_gap": null,
            "grid_row": null,
            "grid_template_areas": null,
            "grid_template_columns": null,
            "grid_template_rows": null,
            "height": null,
            "justify_content": null,
            "justify_items": null,
            "left": null,
            "margin": null,
            "max_height": null,
            "max_width": null,
            "min_height": null,
            "min_width": null,
            "object_fit": null,
            "object_position": null,
            "order": null,
            "overflow": null,
            "overflow_x": null,
            "overflow_y": null,
            "padding": null,
            "right": null,
            "top": null,
            "visibility": null,
            "width": null
          }
        },
        "d5bb9fef63824a4da523152cf95c433f": {
          "model_module": "@jupyter-widgets/base",
          "model_name": "LayoutModel",
          "model_module_version": "1.2.0",
          "state": {
            "_model_module": "@jupyter-widgets/base",
            "_model_module_version": "1.2.0",
            "_model_name": "LayoutModel",
            "_view_count": null,
            "_view_module": "@jupyter-widgets/base",
            "_view_module_version": "1.2.0",
            "_view_name": "LayoutView",
            "align_content": null,
            "align_items": null,
            "align_self": null,
            "border": null,
            "bottom": null,
            "display": null,
            "flex": null,
            "flex_flow": null,
            "grid_area": null,
            "grid_auto_columns": null,
            "grid_auto_flow": null,
            "grid_auto_rows": null,
            "grid_column": null,
            "grid_gap": null,
            "grid_row": null,
            "grid_template_areas": null,
            "grid_template_columns": null,
            "grid_template_rows": null,
            "height": null,
            "justify_content": null,
            "justify_items": null,
            "left": null,
            "margin": null,
            "max_height": null,
            "max_width": null,
            "min_height": null,
            "min_width": null,
            "object_fit": null,
            "object_position": null,
            "order": null,
            "overflow": null,
            "overflow_x": null,
            "overflow_y": null,
            "padding": null,
            "right": null,
            "top": null,
            "visibility": null,
            "width": null
          }
        },
        "c527d553514a435d8730cc374d905757": {
          "model_module": "@jupyter-widgets/controls",
          "model_name": "DescriptionStyleModel",
          "model_module_version": "1.5.0",
          "state": {
            "_model_module": "@jupyter-widgets/controls",
            "_model_module_version": "1.5.0",
            "_model_name": "DescriptionStyleModel",
            "_view_count": null,
            "_view_module": "@jupyter-widgets/base",
            "_view_module_version": "1.2.0",
            "_view_name": "StyleView",
            "description_width": ""
          }
        },
        "a4bee416348c4e208d4a578451e12b4d": {
          "model_module": "@jupyter-widgets/base",
          "model_name": "LayoutModel",
          "model_module_version": "1.2.0",
          "state": {
            "_model_module": "@jupyter-widgets/base",
            "_model_module_version": "1.2.0",
            "_model_name": "LayoutModel",
            "_view_count": null,
            "_view_module": "@jupyter-widgets/base",
            "_view_module_version": "1.2.0",
            "_view_name": "LayoutView",
            "align_content": null,
            "align_items": null,
            "align_self": null,
            "border": null,
            "bottom": null,
            "display": null,
            "flex": null,
            "flex_flow": null,
            "grid_area": null,
            "grid_auto_columns": null,
            "grid_auto_flow": null,
            "grid_auto_rows": null,
            "grid_column": null,
            "grid_gap": null,
            "grid_row": null,
            "grid_template_areas": null,
            "grid_template_columns": null,
            "grid_template_rows": null,
            "height": null,
            "justify_content": null,
            "justify_items": null,
            "left": null,
            "margin": null,
            "max_height": null,
            "max_width": null,
            "min_height": null,
            "min_width": null,
            "object_fit": null,
            "object_position": null,
            "order": null,
            "overflow": null,
            "overflow_x": null,
            "overflow_y": null,
            "padding": null,
            "right": null,
            "top": null,
            "visibility": null,
            "width": null
          }
        },
        "71c1437d408b4dc99e898ffb4c9be32c": {
          "model_module": "@jupyter-widgets/controls",
          "model_name": "ProgressStyleModel",
          "model_module_version": "1.5.0",
          "state": {
            "_model_module": "@jupyter-widgets/controls",
            "_model_module_version": "1.5.0",
            "_model_name": "ProgressStyleModel",
            "_view_count": null,
            "_view_module": "@jupyter-widgets/base",
            "_view_module_version": "1.2.0",
            "_view_name": "StyleView",
            "bar_color": null,
            "description_width": ""
          }
        },
        "f5d3169a854344229d06d7f5e6bc2a3f": {
          "model_module": "@jupyter-widgets/base",
          "model_name": "LayoutModel",
          "model_module_version": "1.2.0",
          "state": {
            "_model_module": "@jupyter-widgets/base",
            "_model_module_version": "1.2.0",
            "_model_name": "LayoutModel",
            "_view_count": null,
            "_view_module": "@jupyter-widgets/base",
            "_view_module_version": "1.2.0",
            "_view_name": "LayoutView",
            "align_content": null,
            "align_items": null,
            "align_self": null,
            "border": null,
            "bottom": null,
            "display": null,
            "flex": null,
            "flex_flow": null,
            "grid_area": null,
            "grid_auto_columns": null,
            "grid_auto_flow": null,
            "grid_auto_rows": null,
            "grid_column": null,
            "grid_gap": null,
            "grid_row": null,
            "grid_template_areas": null,
            "grid_template_columns": null,
            "grid_template_rows": null,
            "height": null,
            "justify_content": null,
            "justify_items": null,
            "left": null,
            "margin": null,
            "max_height": null,
            "max_width": null,
            "min_height": null,
            "min_width": null,
            "object_fit": null,
            "object_position": null,
            "order": null,
            "overflow": null,
            "overflow_x": null,
            "overflow_y": null,
            "padding": null,
            "right": null,
            "top": null,
            "visibility": null,
            "width": null
          }
        },
        "6e5c8d7a03c74dc69d79c3d1b892f4f4": {
          "model_module": "@jupyter-widgets/controls",
          "model_name": "DescriptionStyleModel",
          "model_module_version": "1.5.0",
          "state": {
            "_model_module": "@jupyter-widgets/controls",
            "_model_module_version": "1.5.0",
            "_model_name": "DescriptionStyleModel",
            "_view_count": null,
            "_view_module": "@jupyter-widgets/base",
            "_view_module_version": "1.2.0",
            "_view_name": "StyleView",
            "description_width": ""
          }
        },
        "d6e5a6293021483eba67890a2dcb2fd3": {
          "model_module": "@jupyter-widgets/controls",
          "model_name": "HBoxModel",
          "model_module_version": "1.5.0",
          "state": {
            "_dom_classes": [],
            "_model_module": "@jupyter-widgets/controls",
            "_model_module_version": "1.5.0",
            "_model_name": "HBoxModel",
            "_view_count": null,
            "_view_module": "@jupyter-widgets/controls",
            "_view_module_version": "1.5.0",
            "_view_name": "HBoxView",
            "box_style": "",
            "children": [
              "IPY_MODEL_7be5ddc200d54ad6a6645e1b550a9cc9",
              "IPY_MODEL_5bd54cea9f9f4365a0723dc20b1d20a9",
              "IPY_MODEL_c4743dfb75844b9e84aad90d0fe3b0d6"
            ],
            "layout": "IPY_MODEL_362f27c6f7614c368f47c4b55dc41abc"
          }
        },
        "7be5ddc200d54ad6a6645e1b550a9cc9": {
          "model_module": "@jupyter-widgets/controls",
          "model_name": "HTMLModel",
          "model_module_version": "1.5.0",
          "state": {
            "_dom_classes": [],
            "_model_module": "@jupyter-widgets/controls",
            "_model_module_version": "1.5.0",
            "_model_name": "HTMLModel",
            "_view_count": null,
            "_view_module": "@jupyter-widgets/controls",
            "_view_module_version": "1.5.0",
            "_view_name": "HTMLView",
            "description": "",
            "description_tooltip": null,
            "layout": "IPY_MODEL_6f4647b18dec423db0ce5def88676295",
            "placeholder": "​",
            "style": "IPY_MODEL_77861c66df7e46a68657b5713d35e1c4",
            "value": "spiece.model: 100%"
          }
        },
        "5bd54cea9f9f4365a0723dc20b1d20a9": {
          "model_module": "@jupyter-widgets/controls",
          "model_name": "FloatProgressModel",
          "model_module_version": "1.5.0",
          "state": {
            "_dom_classes": [],
            "_model_module": "@jupyter-widgets/controls",
            "_model_module_version": "1.5.0",
            "_model_name": "FloatProgressModel",
            "_view_count": null,
            "_view_module": "@jupyter-widgets/controls",
            "_view_module_version": "1.5.0",
            "_view_name": "ProgressView",
            "bar_style": "success",
            "description": "",
            "description_tooltip": null,
            "layout": "IPY_MODEL_60116627b7274207a550d9f28e810e43",
            "max": 1912529,
            "min": 0,
            "orientation": "horizontal",
            "style": "IPY_MODEL_62fdfc5e1078440aad793985d3bef1be",
            "value": 1912529
          }
        },
        "c4743dfb75844b9e84aad90d0fe3b0d6": {
          "model_module": "@jupyter-widgets/controls",
          "model_name": "HTMLModel",
          "model_module_version": "1.5.0",
          "state": {
            "_dom_classes": [],
            "_model_module": "@jupyter-widgets/controls",
            "_model_module_version": "1.5.0",
            "_model_name": "HTMLModel",
            "_view_count": null,
            "_view_module": "@jupyter-widgets/controls",
            "_view_module_version": "1.5.0",
            "_view_name": "HTMLView",
            "description": "",
            "description_tooltip": null,
            "layout": "IPY_MODEL_d24beb8983b54421a1634f309fca9378",
            "placeholder": "​",
            "style": "IPY_MODEL_831f6e0f4339483cb28f2602205bc33a",
            "value": " 1.91M/1.91M [00:00&lt;00:00, 6.21MB/s]"
          }
        },
        "362f27c6f7614c368f47c4b55dc41abc": {
          "model_module": "@jupyter-widgets/base",
          "model_name": "LayoutModel",
          "model_module_version": "1.2.0",
          "state": {
            "_model_module": "@jupyter-widgets/base",
            "_model_module_version": "1.2.0",
            "_model_name": "LayoutModel",
            "_view_count": null,
            "_view_module": "@jupyter-widgets/base",
            "_view_module_version": "1.2.0",
            "_view_name": "LayoutView",
            "align_content": null,
            "align_items": null,
            "align_self": null,
            "border": null,
            "bottom": null,
            "display": null,
            "flex": null,
            "flex_flow": null,
            "grid_area": null,
            "grid_auto_columns": null,
            "grid_auto_flow": null,
            "grid_auto_rows": null,
            "grid_column": null,
            "grid_gap": null,
            "grid_row": null,
            "grid_template_areas": null,
            "grid_template_columns": null,
            "grid_template_rows": null,
            "height": null,
            "justify_content": null,
            "justify_items": null,
            "left": null,
            "margin": null,
            "max_height": null,
            "max_width": null,
            "min_height": null,
            "min_width": null,
            "object_fit": null,
            "object_position": null,
            "order": null,
            "overflow": null,
            "overflow_x": null,
            "overflow_y": null,
            "padding": null,
            "right": null,
            "top": null,
            "visibility": null,
            "width": null
          }
        },
        "6f4647b18dec423db0ce5def88676295": {
          "model_module": "@jupyter-widgets/base",
          "model_name": "LayoutModel",
          "model_module_version": "1.2.0",
          "state": {
            "_model_module": "@jupyter-widgets/base",
            "_model_module_version": "1.2.0",
            "_model_name": "LayoutModel",
            "_view_count": null,
            "_view_module": "@jupyter-widgets/base",
            "_view_module_version": "1.2.0",
            "_view_name": "LayoutView",
            "align_content": null,
            "align_items": null,
            "align_self": null,
            "border": null,
            "bottom": null,
            "display": null,
            "flex": null,
            "flex_flow": null,
            "grid_area": null,
            "grid_auto_columns": null,
            "grid_auto_flow": null,
            "grid_auto_rows": null,
            "grid_column": null,
            "grid_gap": null,
            "grid_row": null,
            "grid_template_areas": null,
            "grid_template_columns": null,
            "grid_template_rows": null,
            "height": null,
            "justify_content": null,
            "justify_items": null,
            "left": null,
            "margin": null,
            "max_height": null,
            "max_width": null,
            "min_height": null,
            "min_width": null,
            "object_fit": null,
            "object_position": null,
            "order": null,
            "overflow": null,
            "overflow_x": null,
            "overflow_y": null,
            "padding": null,
            "right": null,
            "top": null,
            "visibility": null,
            "width": null
          }
        },
        "77861c66df7e46a68657b5713d35e1c4": {
          "model_module": "@jupyter-widgets/controls",
          "model_name": "DescriptionStyleModel",
          "model_module_version": "1.5.0",
          "state": {
            "_model_module": "@jupyter-widgets/controls",
            "_model_module_version": "1.5.0",
            "_model_name": "DescriptionStyleModel",
            "_view_count": null,
            "_view_module": "@jupyter-widgets/base",
            "_view_module_version": "1.2.0",
            "_view_name": "StyleView",
            "description_width": ""
          }
        },
        "60116627b7274207a550d9f28e810e43": {
          "model_module": "@jupyter-widgets/base",
          "model_name": "LayoutModel",
          "model_module_version": "1.2.0",
          "state": {
            "_model_module": "@jupyter-widgets/base",
            "_model_module_version": "1.2.0",
            "_model_name": "LayoutModel",
            "_view_count": null,
            "_view_module": "@jupyter-widgets/base",
            "_view_module_version": "1.2.0",
            "_view_name": "LayoutView",
            "align_content": null,
            "align_items": null,
            "align_self": null,
            "border": null,
            "bottom": null,
            "display": null,
            "flex": null,
            "flex_flow": null,
            "grid_area": null,
            "grid_auto_columns": null,
            "grid_auto_flow": null,
            "grid_auto_rows": null,
            "grid_column": null,
            "grid_gap": null,
            "grid_row": null,
            "grid_template_areas": null,
            "grid_template_columns": null,
            "grid_template_rows": null,
            "height": null,
            "justify_content": null,
            "justify_items": null,
            "left": null,
            "margin": null,
            "max_height": null,
            "max_width": null,
            "min_height": null,
            "min_width": null,
            "object_fit": null,
            "object_position": null,
            "order": null,
            "overflow": null,
            "overflow_x": null,
            "overflow_y": null,
            "padding": null,
            "right": null,
            "top": null,
            "visibility": null,
            "width": null
          }
        },
        "62fdfc5e1078440aad793985d3bef1be": {
          "model_module": "@jupyter-widgets/controls",
          "model_name": "ProgressStyleModel",
          "model_module_version": "1.5.0",
          "state": {
            "_model_module": "@jupyter-widgets/controls",
            "_model_module_version": "1.5.0",
            "_model_name": "ProgressStyleModel",
            "_view_count": null,
            "_view_module": "@jupyter-widgets/base",
            "_view_module_version": "1.2.0",
            "_view_name": "StyleView",
            "bar_color": null,
            "description_width": ""
          }
        },
        "d24beb8983b54421a1634f309fca9378": {
          "model_module": "@jupyter-widgets/base",
          "model_name": "LayoutModel",
          "model_module_version": "1.2.0",
          "state": {
            "_model_module": "@jupyter-widgets/base",
            "_model_module_version": "1.2.0",
            "_model_name": "LayoutModel",
            "_view_count": null,
            "_view_module": "@jupyter-widgets/base",
            "_view_module_version": "1.2.0",
            "_view_name": "LayoutView",
            "align_content": null,
            "align_items": null,
            "align_self": null,
            "border": null,
            "bottom": null,
            "display": null,
            "flex": null,
            "flex_flow": null,
            "grid_area": null,
            "grid_auto_columns": null,
            "grid_auto_flow": null,
            "grid_auto_rows": null,
            "grid_column": null,
            "grid_gap": null,
            "grid_row": null,
            "grid_template_areas": null,
            "grid_template_columns": null,
            "grid_template_rows": null,
            "height": null,
            "justify_content": null,
            "justify_items": null,
            "left": null,
            "margin": null,
            "max_height": null,
            "max_width": null,
            "min_height": null,
            "min_width": null,
            "object_fit": null,
            "object_position": null,
            "order": null,
            "overflow": null,
            "overflow_x": null,
            "overflow_y": null,
            "padding": null,
            "right": null,
            "top": null,
            "visibility": null,
            "width": null
          }
        },
        "831f6e0f4339483cb28f2602205bc33a": {
          "model_module": "@jupyter-widgets/controls",
          "model_name": "DescriptionStyleModel",
          "model_module_version": "1.5.0",
          "state": {
            "_model_module": "@jupyter-widgets/controls",
            "_model_module_version": "1.5.0",
            "_model_name": "DescriptionStyleModel",
            "_view_count": null,
            "_view_module": "@jupyter-widgets/base",
            "_view_module_version": "1.2.0",
            "_view_name": "StyleView",
            "description_width": ""
          }
        },
        "98535853064a40878fdad244b9d3175f": {
          "model_module": "@jupyter-widgets/controls",
          "model_name": "HBoxModel",
          "model_module_version": "1.5.0",
          "state": {
            "_dom_classes": [],
            "_model_module": "@jupyter-widgets/controls",
            "_model_module_version": "1.5.0",
            "_model_name": "HBoxModel",
            "_view_count": null,
            "_view_module": "@jupyter-widgets/controls",
            "_view_module_version": "1.5.0",
            "_view_name": "HBoxView",
            "box_style": "",
            "children": [
              "IPY_MODEL_c7386ea8d7e44e26a1764bb6bee3a810",
              "IPY_MODEL_a9ec1bd4058442bc847bdfba675ba00c",
              "IPY_MODEL_39704d026b9047acbfa0ec068844a148"
            ],
            "layout": "IPY_MODEL_f4addde148c545c6a4373fb743885a79"
          }
        },
        "c7386ea8d7e44e26a1764bb6bee3a810": {
          "model_module": "@jupyter-widgets/controls",
          "model_name": "HTMLModel",
          "model_module_version": "1.5.0",
          "state": {
            "_dom_classes": [],
            "_model_module": "@jupyter-widgets/controls",
            "_model_module_version": "1.5.0",
            "_model_name": "HTMLModel",
            "_view_count": null,
            "_view_module": "@jupyter-widgets/controls",
            "_view_module_version": "1.5.0",
            "_view_name": "HTMLView",
            "description": "",
            "description_tooltip": null,
            "layout": "IPY_MODEL_83ce8467a95d4221a150a8f13e8197dc",
            "placeholder": "​",
            "style": "IPY_MODEL_0b7dbd3c150f4e9c8deccfeb74185a79",
            "value": "special_tokens_map.json: 100%"
          }
        },
        "a9ec1bd4058442bc847bdfba675ba00c": {
          "model_module": "@jupyter-widgets/controls",
          "model_name": "FloatProgressModel",
          "model_module_version": "1.5.0",
          "state": {
            "_dom_classes": [],
            "_model_module": "@jupyter-widgets/controls",
            "_model_module_version": "1.5.0",
            "_model_name": "FloatProgressModel",
            "_view_count": null,
            "_view_module": "@jupyter-widgets/controls",
            "_view_module_version": "1.5.0",
            "_view_name": "ProgressView",
            "bar_style": "success",
            "description": "",
            "description_tooltip": null,
            "layout": "IPY_MODEL_f5cc9d3b705148fcb5b46dd4dc0df999",
            "max": 1341,
            "min": 0,
            "orientation": "horizontal",
            "style": "IPY_MODEL_ae226c1b86f34cf493a377ed3fc905a8",
            "value": 1341
          }
        },
        "39704d026b9047acbfa0ec068844a148": {
          "model_module": "@jupyter-widgets/controls",
          "model_name": "HTMLModel",
          "model_module_version": "1.5.0",
          "state": {
            "_dom_classes": [],
            "_model_module": "@jupyter-widgets/controls",
            "_model_module_version": "1.5.0",
            "_model_name": "HTMLModel",
            "_view_count": null,
            "_view_module": "@jupyter-widgets/controls",
            "_view_module_version": "1.5.0",
            "_view_name": "HTMLView",
            "description": "",
            "description_tooltip": null,
            "layout": "IPY_MODEL_6df7b92a8a494b94a465cceb797a78b9",
            "placeholder": "​",
            "style": "IPY_MODEL_cbc82235da834b84b3cdb5f89982d1b6",
            "value": " 1.34k/1.34k [00:00&lt;00:00, 27.8kB/s]"
          }
        },
        "f4addde148c545c6a4373fb743885a79": {
          "model_module": "@jupyter-widgets/base",
          "model_name": "LayoutModel",
          "model_module_version": "1.2.0",
          "state": {
            "_model_module": "@jupyter-widgets/base",
            "_model_module_version": "1.2.0",
            "_model_name": "LayoutModel",
            "_view_count": null,
            "_view_module": "@jupyter-widgets/base",
            "_view_module_version": "1.2.0",
            "_view_name": "LayoutView",
            "align_content": null,
            "align_items": null,
            "align_self": null,
            "border": null,
            "bottom": null,
            "display": null,
            "flex": null,
            "flex_flow": null,
            "grid_area": null,
            "grid_auto_columns": null,
            "grid_auto_flow": null,
            "grid_auto_rows": null,
            "grid_column": null,
            "grid_gap": null,
            "grid_row": null,
            "grid_template_areas": null,
            "grid_template_columns": null,
            "grid_template_rows": null,
            "height": null,
            "justify_content": null,
            "justify_items": null,
            "left": null,
            "margin": null,
            "max_height": null,
            "max_width": null,
            "min_height": null,
            "min_width": null,
            "object_fit": null,
            "object_position": null,
            "order": null,
            "overflow": null,
            "overflow_x": null,
            "overflow_y": null,
            "padding": null,
            "right": null,
            "top": null,
            "visibility": null,
            "width": null
          }
        },
        "83ce8467a95d4221a150a8f13e8197dc": {
          "model_module": "@jupyter-widgets/base",
          "model_name": "LayoutModel",
          "model_module_version": "1.2.0",
          "state": {
            "_model_module": "@jupyter-widgets/base",
            "_model_module_version": "1.2.0",
            "_model_name": "LayoutModel",
            "_view_count": null,
            "_view_module": "@jupyter-widgets/base",
            "_view_module_version": "1.2.0",
            "_view_name": "LayoutView",
            "align_content": null,
            "align_items": null,
            "align_self": null,
            "border": null,
            "bottom": null,
            "display": null,
            "flex": null,
            "flex_flow": null,
            "grid_area": null,
            "grid_auto_columns": null,
            "grid_auto_flow": null,
            "grid_auto_rows": null,
            "grid_column": null,
            "grid_gap": null,
            "grid_row": null,
            "grid_template_areas": null,
            "grid_template_columns": null,
            "grid_template_rows": null,
            "height": null,
            "justify_content": null,
            "justify_items": null,
            "left": null,
            "margin": null,
            "max_height": null,
            "max_width": null,
            "min_height": null,
            "min_width": null,
            "object_fit": null,
            "object_position": null,
            "order": null,
            "overflow": null,
            "overflow_x": null,
            "overflow_y": null,
            "padding": null,
            "right": null,
            "top": null,
            "visibility": null,
            "width": null
          }
        },
        "0b7dbd3c150f4e9c8deccfeb74185a79": {
          "model_module": "@jupyter-widgets/controls",
          "model_name": "DescriptionStyleModel",
          "model_module_version": "1.5.0",
          "state": {
            "_model_module": "@jupyter-widgets/controls",
            "_model_module_version": "1.5.0",
            "_model_name": "DescriptionStyleModel",
            "_view_count": null,
            "_view_module": "@jupyter-widgets/base",
            "_view_module_version": "1.2.0",
            "_view_name": "StyleView",
            "description_width": ""
          }
        },
        "f5cc9d3b705148fcb5b46dd4dc0df999": {
          "model_module": "@jupyter-widgets/base",
          "model_name": "LayoutModel",
          "model_module_version": "1.2.0",
          "state": {
            "_model_module": "@jupyter-widgets/base",
            "_model_module_version": "1.2.0",
            "_model_name": "LayoutModel",
            "_view_count": null,
            "_view_module": "@jupyter-widgets/base",
            "_view_module_version": "1.2.0",
            "_view_name": "LayoutView",
            "align_content": null,
            "align_items": null,
            "align_self": null,
            "border": null,
            "bottom": null,
            "display": null,
            "flex": null,
            "flex_flow": null,
            "grid_area": null,
            "grid_auto_columns": null,
            "grid_auto_flow": null,
            "grid_auto_rows": null,
            "grid_column": null,
            "grid_gap": null,
            "grid_row": null,
            "grid_template_areas": null,
            "grid_template_columns": null,
            "grid_template_rows": null,
            "height": null,
            "justify_content": null,
            "justify_items": null,
            "left": null,
            "margin": null,
            "max_height": null,
            "max_width": null,
            "min_height": null,
            "min_width": null,
            "object_fit": null,
            "object_position": null,
            "order": null,
            "overflow": null,
            "overflow_x": null,
            "overflow_y": null,
            "padding": null,
            "right": null,
            "top": null,
            "visibility": null,
            "width": null
          }
        },
        "ae226c1b86f34cf493a377ed3fc905a8": {
          "model_module": "@jupyter-widgets/controls",
          "model_name": "ProgressStyleModel",
          "model_module_version": "1.5.0",
          "state": {
            "_model_module": "@jupyter-widgets/controls",
            "_model_module_version": "1.5.0",
            "_model_name": "ProgressStyleModel",
            "_view_count": null,
            "_view_module": "@jupyter-widgets/base",
            "_view_module_version": "1.2.0",
            "_view_name": "StyleView",
            "bar_color": null,
            "description_width": ""
          }
        },
        "6df7b92a8a494b94a465cceb797a78b9": {
          "model_module": "@jupyter-widgets/base",
          "model_name": "LayoutModel",
          "model_module_version": "1.2.0",
          "state": {
            "_model_module": "@jupyter-widgets/base",
            "_model_module_version": "1.2.0",
            "_model_name": "LayoutModel",
            "_view_count": null,
            "_view_module": "@jupyter-widgets/base",
            "_view_module_version": "1.2.0",
            "_view_name": "LayoutView",
            "align_content": null,
            "align_items": null,
            "align_self": null,
            "border": null,
            "bottom": null,
            "display": null,
            "flex": null,
            "flex_flow": null,
            "grid_area": null,
            "grid_auto_columns": null,
            "grid_auto_flow": null,
            "grid_auto_rows": null,
            "grid_column": null,
            "grid_gap": null,
            "grid_row": null,
            "grid_template_areas": null,
            "grid_template_columns": null,
            "grid_template_rows": null,
            "height": null,
            "justify_content": null,
            "justify_items": null,
            "left": null,
            "margin": null,
            "max_height": null,
            "max_width": null,
            "min_height": null,
            "min_width": null,
            "object_fit": null,
            "object_position": null,
            "order": null,
            "overflow": null,
            "overflow_x": null,
            "overflow_y": null,
            "padding": null,
            "right": null,
            "top": null,
            "visibility": null,
            "width": null
          }
        },
        "cbc82235da834b84b3cdb5f89982d1b6": {
          "model_module": "@jupyter-widgets/controls",
          "model_name": "DescriptionStyleModel",
          "model_module_version": "1.5.0",
          "state": {
            "_model_module": "@jupyter-widgets/controls",
            "_model_module_version": "1.5.0",
            "_model_name": "DescriptionStyleModel",
            "_view_count": null,
            "_view_module": "@jupyter-widgets/base",
            "_view_module_version": "1.2.0",
            "_view_name": "StyleView",
            "description_width": ""
          }
        },
        "de4b4473a98b4d1aa6997762958fdfbe": {
          "model_module": "@jupyter-widgets/controls",
          "model_name": "HBoxModel",
          "model_module_version": "1.5.0",
          "state": {
            "_dom_classes": [],
            "_model_module": "@jupyter-widgets/controls",
            "_model_module_version": "1.5.0",
            "_model_name": "HBoxModel",
            "_view_count": null,
            "_view_module": "@jupyter-widgets/controls",
            "_view_module_version": "1.5.0",
            "_view_name": "HBoxView",
            "box_style": "",
            "children": [
              "IPY_MODEL_45246c93082e436c90e5a23a005edad1",
              "IPY_MODEL_5ad7671ff39846a6972f8c85841227b8",
              "IPY_MODEL_1523dabcb9c94d6f9bba63ba414ecd9d"
            ],
            "layout": "IPY_MODEL_76f8c1cf208743beacb1c7efaac008c6"
          }
        },
        "45246c93082e436c90e5a23a005edad1": {
          "model_module": "@jupyter-widgets/controls",
          "model_name": "HTMLModel",
          "model_module_version": "1.5.0",
          "state": {
            "_dom_classes": [],
            "_model_module": "@jupyter-widgets/controls",
            "_model_module_version": "1.5.0",
            "_model_name": "HTMLModel",
            "_view_count": null,
            "_view_module": "@jupyter-widgets/controls",
            "_view_module_version": "1.5.0",
            "_view_name": "HTMLView",
            "description": "",
            "description_tooltip": null,
            "layout": "IPY_MODEL_df6172c694ab44c79ccc4994fe8a6751",
            "placeholder": "​",
            "style": "IPY_MODEL_1aa0797854e44b9c9a1cc02ae4a847da",
            "value": "config.json: 100%"
          }
        },
        "5ad7671ff39846a6972f8c85841227b8": {
          "model_module": "@jupyter-widgets/controls",
          "model_name": "FloatProgressModel",
          "model_module_version": "1.5.0",
          "state": {
            "_dom_classes": [],
            "_model_module": "@jupyter-widgets/controls",
            "_model_module_version": "1.5.0",
            "_model_name": "FloatProgressModel",
            "_view_count": null,
            "_view_module": "@jupyter-widgets/controls",
            "_view_module_version": "1.5.0",
            "_view_name": "ProgressView",
            "bar_style": "success",
            "description": "",
            "description_tooltip": null,
            "layout": "IPY_MODEL_15eb9c4ad65a47ddaf88bcd5ffe1257b",
            "max": 1274,
            "min": 0,
            "orientation": "horizontal",
            "style": "IPY_MODEL_321aa2a64e6047d288a43e4707f198de",
            "value": 1274
          }
        },
        "1523dabcb9c94d6f9bba63ba414ecd9d": {
          "model_module": "@jupyter-widgets/controls",
          "model_name": "HTMLModel",
          "model_module_version": "1.5.0",
          "state": {
            "_dom_classes": [],
            "_model_module": "@jupyter-widgets/controls",
            "_model_module_version": "1.5.0",
            "_model_name": "HTMLModel",
            "_view_count": null,
            "_view_module": "@jupyter-widgets/controls",
            "_view_module_version": "1.5.0",
            "_view_name": "HTMLView",
            "description": "",
            "description_tooltip": null,
            "layout": "IPY_MODEL_8679eb4147bd40bb898c189e0c5c74f5",
            "placeholder": "​",
            "style": "IPY_MODEL_6cefbc3973ee4f2282aa60ecf8838360",
            "value": " 1.27k/1.27k [00:00&lt;00:00, 30.0kB/s]"
          }
        },
        "76f8c1cf208743beacb1c7efaac008c6": {
          "model_module": "@jupyter-widgets/base",
          "model_name": "LayoutModel",
          "model_module_version": "1.2.0",
          "state": {
            "_model_module": "@jupyter-widgets/base",
            "_model_module_version": "1.2.0",
            "_model_name": "LayoutModel",
            "_view_count": null,
            "_view_module": "@jupyter-widgets/base",
            "_view_module_version": "1.2.0",
            "_view_name": "LayoutView",
            "align_content": null,
            "align_items": null,
            "align_self": null,
            "border": null,
            "bottom": null,
            "display": null,
            "flex": null,
            "flex_flow": null,
            "grid_area": null,
            "grid_auto_columns": null,
            "grid_auto_flow": null,
            "grid_auto_rows": null,
            "grid_column": null,
            "grid_gap": null,
            "grid_row": null,
            "grid_template_areas": null,
            "grid_template_columns": null,
            "grid_template_rows": null,
            "height": null,
            "justify_content": null,
            "justify_items": null,
            "left": null,
            "margin": null,
            "max_height": null,
            "max_width": null,
            "min_height": null,
            "min_width": null,
            "object_fit": null,
            "object_position": null,
            "order": null,
            "overflow": null,
            "overflow_x": null,
            "overflow_y": null,
            "padding": null,
            "right": null,
            "top": null,
            "visibility": null,
            "width": null
          }
        },
        "df6172c694ab44c79ccc4994fe8a6751": {
          "model_module": "@jupyter-widgets/base",
          "model_name": "LayoutModel",
          "model_module_version": "1.2.0",
          "state": {
            "_model_module": "@jupyter-widgets/base",
            "_model_module_version": "1.2.0",
            "_model_name": "LayoutModel",
            "_view_count": null,
            "_view_module": "@jupyter-widgets/base",
            "_view_module_version": "1.2.0",
            "_view_name": "LayoutView",
            "align_content": null,
            "align_items": null,
            "align_self": null,
            "border": null,
            "bottom": null,
            "display": null,
            "flex": null,
            "flex_flow": null,
            "grid_area": null,
            "grid_auto_columns": null,
            "grid_auto_flow": null,
            "grid_auto_rows": null,
            "grid_column": null,
            "grid_gap": null,
            "grid_row": null,
            "grid_template_areas": null,
            "grid_template_columns": null,
            "grid_template_rows": null,
            "height": null,
            "justify_content": null,
            "justify_items": null,
            "left": null,
            "margin": null,
            "max_height": null,
            "max_width": null,
            "min_height": null,
            "min_width": null,
            "object_fit": null,
            "object_position": null,
            "order": null,
            "overflow": null,
            "overflow_x": null,
            "overflow_y": null,
            "padding": null,
            "right": null,
            "top": null,
            "visibility": null,
            "width": null
          }
        },
        "1aa0797854e44b9c9a1cc02ae4a847da": {
          "model_module": "@jupyter-widgets/controls",
          "model_name": "DescriptionStyleModel",
          "model_module_version": "1.5.0",
          "state": {
            "_model_module": "@jupyter-widgets/controls",
            "_model_module_version": "1.5.0",
            "_model_name": "DescriptionStyleModel",
            "_view_count": null,
            "_view_module": "@jupyter-widgets/base",
            "_view_module_version": "1.2.0",
            "_view_name": "StyleView",
            "description_width": ""
          }
        },
        "15eb9c4ad65a47ddaf88bcd5ffe1257b": {
          "model_module": "@jupyter-widgets/base",
          "model_name": "LayoutModel",
          "model_module_version": "1.2.0",
          "state": {
            "_model_module": "@jupyter-widgets/base",
            "_model_module_version": "1.2.0",
            "_model_name": "LayoutModel",
            "_view_count": null,
            "_view_module": "@jupyter-widgets/base",
            "_view_module_version": "1.2.0",
            "_view_name": "LayoutView",
            "align_content": null,
            "align_items": null,
            "align_self": null,
            "border": null,
            "bottom": null,
            "display": null,
            "flex": null,
            "flex_flow": null,
            "grid_area": null,
            "grid_auto_columns": null,
            "grid_auto_flow": null,
            "grid_auto_rows": null,
            "grid_column": null,
            "grid_gap": null,
            "grid_row": null,
            "grid_template_areas": null,
            "grid_template_columns": null,
            "grid_template_rows": null,
            "height": null,
            "justify_content": null,
            "justify_items": null,
            "left": null,
            "margin": null,
            "max_height": null,
            "max_width": null,
            "min_height": null,
            "min_width": null,
            "object_fit": null,
            "object_position": null,
            "order": null,
            "overflow": null,
            "overflow_x": null,
            "overflow_y": null,
            "padding": null,
            "right": null,
            "top": null,
            "visibility": null,
            "width": null
          }
        },
        "321aa2a64e6047d288a43e4707f198de": {
          "model_module": "@jupyter-widgets/controls",
          "model_name": "ProgressStyleModel",
          "model_module_version": "1.5.0",
          "state": {
            "_model_module": "@jupyter-widgets/controls",
            "_model_module_version": "1.5.0",
            "_model_name": "ProgressStyleModel",
            "_view_count": null,
            "_view_module": "@jupyter-widgets/base",
            "_view_module_version": "1.2.0",
            "_view_name": "StyleView",
            "bar_color": null,
            "description_width": ""
          }
        },
        "8679eb4147bd40bb898c189e0c5c74f5": {
          "model_module": "@jupyter-widgets/base",
          "model_name": "LayoutModel",
          "model_module_version": "1.2.0",
          "state": {
            "_model_module": "@jupyter-widgets/base",
            "_model_module_version": "1.2.0",
            "_model_name": "LayoutModel",
            "_view_count": null,
            "_view_module": "@jupyter-widgets/base",
            "_view_module_version": "1.2.0",
            "_view_name": "LayoutView",
            "align_content": null,
            "align_items": null,
            "align_self": null,
            "border": null,
            "bottom": null,
            "display": null,
            "flex": null,
            "flex_flow": null,
            "grid_area": null,
            "grid_auto_columns": null,
            "grid_auto_flow": null,
            "grid_auto_rows": null,
            "grid_column": null,
            "grid_gap": null,
            "grid_row": null,
            "grid_template_areas": null,
            "grid_template_columns": null,
            "grid_template_rows": null,
            "height": null,
            "justify_content": null,
            "justify_items": null,
            "left": null,
            "margin": null,
            "max_height": null,
            "max_width": null,
            "min_height": null,
            "min_width": null,
            "object_fit": null,
            "object_position": null,
            "order": null,
            "overflow": null,
            "overflow_x": null,
            "overflow_y": null,
            "padding": null,
            "right": null,
            "top": null,
            "visibility": null,
            "width": null
          }
        },
        "6cefbc3973ee4f2282aa60ecf8838360": {
          "model_module": "@jupyter-widgets/controls",
          "model_name": "DescriptionStyleModel",
          "model_module_version": "1.5.0",
          "state": {
            "_model_module": "@jupyter-widgets/controls",
            "_model_module_version": "1.5.0",
            "_model_name": "DescriptionStyleModel",
            "_view_count": null,
            "_view_module": "@jupyter-widgets/base",
            "_view_module_version": "1.2.0",
            "_view_name": "StyleView",
            "description_width": ""
          }
        },
        "4067083aa48a4966b86da143492beabf": {
          "model_module": "@jupyter-widgets/controls",
          "model_name": "HBoxModel",
          "model_module_version": "1.5.0",
          "state": {
            "_dom_classes": [],
            "_model_module": "@jupyter-widgets/controls",
            "_model_module_version": "1.5.0",
            "_model_name": "HBoxModel",
            "_view_count": null,
            "_view_module": "@jupyter-widgets/controls",
            "_view_module_version": "1.5.0",
            "_view_name": "HBoxView",
            "box_style": "",
            "children": [
              "IPY_MODEL_0dccdf1e77bb4652b86c6ae809a9fc33",
              "IPY_MODEL_b5eebe16d3ac4a039d8c348e954d71e3",
              "IPY_MODEL_3b5875935b874a7cbe5aafe3aa5aec5c"
            ],
            "layout": "IPY_MODEL_ce97754612154e048d502e5f09c659a5"
          }
        },
        "0dccdf1e77bb4652b86c6ae809a9fc33": {
          "model_module": "@jupyter-widgets/controls",
          "model_name": "HTMLModel",
          "model_module_version": "1.5.0",
          "state": {
            "_dom_classes": [],
            "_model_module": "@jupyter-widgets/controls",
            "_model_module_version": "1.5.0",
            "_model_name": "HTMLModel",
            "_view_count": null,
            "_view_module": "@jupyter-widgets/controls",
            "_view_module_version": "1.5.0",
            "_view_name": "HTMLView",
            "description": "",
            "description_tooltip": null,
            "layout": "IPY_MODEL_f0ae778c096346449156e3011a32ffb4",
            "placeholder": "​",
            "style": "IPY_MODEL_3540595a27b9485892f1759420ed4297",
            "value": "model.safetensors: 100%"
          }
        },
        "b5eebe16d3ac4a039d8c348e954d71e3": {
          "model_module": "@jupyter-widgets/controls",
          "model_name": "FloatProgressModel",
          "model_module_version": "1.5.0",
          "state": {
            "_dom_classes": [],
            "_model_module": "@jupyter-widgets/controls",
            "_model_module_version": "1.5.0",
            "_model_name": "FloatProgressModel",
            "_view_count": null,
            "_view_module": "@jupyter-widgets/controls",
            "_view_module_version": "1.5.0",
            "_view_name": "ProgressView",
            "bar_style": "success",
            "description": "",
            "description_tooltip": null,
            "layout": "IPY_MODEL_a22e0e720a11479a8739eb39c4fbd8c0",
            "max": 2275264008,
            "min": 0,
            "orientation": "horizontal",
            "style": "IPY_MODEL_6c96ac9fec534a97b3374ee692ef5872",
            "value": 2275264008
          }
        },
        "3b5875935b874a7cbe5aafe3aa5aec5c": {
          "model_module": "@jupyter-widgets/controls",
          "model_name": "HTMLModel",
          "model_module_version": "1.5.0",
          "state": {
            "_dom_classes": [],
            "_model_module": "@jupyter-widgets/controls",
            "_model_module_version": "1.5.0",
            "_model_name": "HTMLModel",
            "_view_count": null,
            "_view_module": "@jupyter-widgets/controls",
            "_view_module_version": "1.5.0",
            "_view_name": "HTMLView",
            "description": "",
            "description_tooltip": null,
            "layout": "IPY_MODEL_93d66448a3384628a6583aee93ca77fc",
            "placeholder": "​",
            "style": "IPY_MODEL_f77203277e10470fa79e95b89c4f2654",
            "value": " 2.28G/2.28G [00:20&lt;00:00, 188MB/s]"
          }
        },
        "ce97754612154e048d502e5f09c659a5": {
          "model_module": "@jupyter-widgets/base",
          "model_name": "LayoutModel",
          "model_module_version": "1.2.0",
          "state": {
            "_model_module": "@jupyter-widgets/base",
            "_model_module_version": "1.2.0",
            "_model_name": "LayoutModel",
            "_view_count": null,
            "_view_module": "@jupyter-widgets/base",
            "_view_module_version": "1.2.0",
            "_view_name": "LayoutView",
            "align_content": null,
            "align_items": null,
            "align_self": null,
            "border": null,
            "bottom": null,
            "display": null,
            "flex": null,
            "flex_flow": null,
            "grid_area": null,
            "grid_auto_columns": null,
            "grid_auto_flow": null,
            "grid_auto_rows": null,
            "grid_column": null,
            "grid_gap": null,
            "grid_row": null,
            "grid_template_areas": null,
            "grid_template_columns": null,
            "grid_template_rows": null,
            "height": null,
            "justify_content": null,
            "justify_items": null,
            "left": null,
            "margin": null,
            "max_height": null,
            "max_width": null,
            "min_height": null,
            "min_width": null,
            "object_fit": null,
            "object_position": null,
            "order": null,
            "overflow": null,
            "overflow_x": null,
            "overflow_y": null,
            "padding": null,
            "right": null,
            "top": null,
            "visibility": null,
            "width": null
          }
        },
        "f0ae778c096346449156e3011a32ffb4": {
          "model_module": "@jupyter-widgets/base",
          "model_name": "LayoutModel",
          "model_module_version": "1.2.0",
          "state": {
            "_model_module": "@jupyter-widgets/base",
            "_model_module_version": "1.2.0",
            "_model_name": "LayoutModel",
            "_view_count": null,
            "_view_module": "@jupyter-widgets/base",
            "_view_module_version": "1.2.0",
            "_view_name": "LayoutView",
            "align_content": null,
            "align_items": null,
            "align_self": null,
            "border": null,
            "bottom": null,
            "display": null,
            "flex": null,
            "flex_flow": null,
            "grid_area": null,
            "grid_auto_columns": null,
            "grid_auto_flow": null,
            "grid_auto_rows": null,
            "grid_column": null,
            "grid_gap": null,
            "grid_row": null,
            "grid_template_areas": null,
            "grid_template_columns": null,
            "grid_template_rows": null,
            "height": null,
            "justify_content": null,
            "justify_items": null,
            "left": null,
            "margin": null,
            "max_height": null,
            "max_width": null,
            "min_height": null,
            "min_width": null,
            "object_fit": null,
            "object_position": null,
            "order": null,
            "overflow": null,
            "overflow_x": null,
            "overflow_y": null,
            "padding": null,
            "right": null,
            "top": null,
            "visibility": null,
            "width": null
          }
        },
        "3540595a27b9485892f1759420ed4297": {
          "model_module": "@jupyter-widgets/controls",
          "model_name": "DescriptionStyleModel",
          "model_module_version": "1.5.0",
          "state": {
            "_model_module": "@jupyter-widgets/controls",
            "_model_module_version": "1.5.0",
            "_model_name": "DescriptionStyleModel",
            "_view_count": null,
            "_view_module": "@jupyter-widgets/base",
            "_view_module_version": "1.2.0",
            "_view_name": "StyleView",
            "description_width": ""
          }
        },
        "a22e0e720a11479a8739eb39c4fbd8c0": {
          "model_module": "@jupyter-widgets/base",
          "model_name": "LayoutModel",
          "model_module_version": "1.2.0",
          "state": {
            "_model_module": "@jupyter-widgets/base",
            "_model_module_version": "1.2.0",
            "_model_name": "LayoutModel",
            "_view_count": null,
            "_view_module": "@jupyter-widgets/base",
            "_view_module_version": "1.2.0",
            "_view_name": "LayoutView",
            "align_content": null,
            "align_items": null,
            "align_self": null,
            "border": null,
            "bottom": null,
            "display": null,
            "flex": null,
            "flex_flow": null,
            "grid_area": null,
            "grid_auto_columns": null,
            "grid_auto_flow": null,
            "grid_auto_rows": null,
            "grid_column": null,
            "grid_gap": null,
            "grid_row": null,
            "grid_template_areas": null,
            "grid_template_columns": null,
            "grid_template_rows": null,
            "height": null,
            "justify_content": null,
            "justify_items": null,
            "left": null,
            "margin": null,
            "max_height": null,
            "max_width": null,
            "min_height": null,
            "min_width": null,
            "object_fit": null,
            "object_position": null,
            "order": null,
            "overflow": null,
            "overflow_x": null,
            "overflow_y": null,
            "padding": null,
            "right": null,
            "top": null,
            "visibility": null,
            "width": null
          }
        },
        "6c96ac9fec534a97b3374ee692ef5872": {
          "model_module": "@jupyter-widgets/controls",
          "model_name": "ProgressStyleModel",
          "model_module_version": "1.5.0",
          "state": {
            "_model_module": "@jupyter-widgets/controls",
            "_model_module_version": "1.5.0",
            "_model_name": "ProgressStyleModel",
            "_view_count": null,
            "_view_module": "@jupyter-widgets/base",
            "_view_module_version": "1.2.0",
            "_view_name": "StyleView",
            "bar_color": null,
            "description_width": ""
          }
        },
        "93d66448a3384628a6583aee93ca77fc": {
          "model_module": "@jupyter-widgets/base",
          "model_name": "LayoutModel",
          "model_module_version": "1.2.0",
          "state": {
            "_model_module": "@jupyter-widgets/base",
            "_model_module_version": "1.2.0",
            "_model_name": "LayoutModel",
            "_view_count": null,
            "_view_module": "@jupyter-widgets/base",
            "_view_module_version": "1.2.0",
            "_view_name": "LayoutView",
            "align_content": null,
            "align_items": null,
            "align_self": null,
            "border": null,
            "bottom": null,
            "display": null,
            "flex": null,
            "flex_flow": null,
            "grid_area": null,
            "grid_auto_columns": null,
            "grid_auto_flow": null,
            "grid_auto_rows": null,
            "grid_column": null,
            "grid_gap": null,
            "grid_row": null,
            "grid_template_areas": null,
            "grid_template_columns": null,
            "grid_template_rows": null,
            "height": null,
            "justify_content": null,
            "justify_items": null,
            "left": null,
            "margin": null,
            "max_height": null,
            "max_width": null,
            "min_height": null,
            "min_width": null,
            "object_fit": null,
            "object_position": null,
            "order": null,
            "overflow": null,
            "overflow_x": null,
            "overflow_y": null,
            "padding": null,
            "right": null,
            "top": null,
            "visibility": null,
            "width": null
          }
        },
        "f77203277e10470fa79e95b89c4f2654": {
          "model_module": "@jupyter-widgets/controls",
          "model_name": "DescriptionStyleModel",
          "model_module_version": "1.5.0",
          "state": {
            "_model_module": "@jupyter-widgets/controls",
            "_model_module_version": "1.5.0",
            "_model_name": "DescriptionStyleModel",
            "_view_count": null,
            "_view_module": "@jupyter-widgets/base",
            "_view_module_version": "1.2.0",
            "_view_name": "StyleView",
            "description_width": ""
          }
        }
      }
    }
  },
  "nbformat": 4,
  "nbformat_minor": 5
}